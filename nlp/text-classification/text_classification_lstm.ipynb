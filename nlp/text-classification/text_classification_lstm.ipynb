{
 "cells": [
  {
   "cell_type": "markdown",
   "id": "5907e216",
   "metadata": {},
   "source": [
    "# Text Classification with LSTM"
   ]
  },
  {
   "cell_type": "code",
   "execution_count": 12,
   "id": "62da8904",
   "metadata": {},
   "outputs": [],
   "source": [
    "import torch\n",
    "import pandas as pd\n",
    "import matplotlib.pyplot as plt\n",
    "from sklearn import preprocessing\n",
    "\n",
    "# Text processing\n",
    "import re\n",
    "from sklearn.metrics import accuracy_score, classification_report, confusion_matrix\n",
    "import seaborn as sns"
   ]
  },
  {
   "cell_type": "code",
   "execution_count": 13,
   "id": "3384b41c",
   "metadata": {},
   "outputs": [
    {
     "name": "stdout",
     "output_type": "stream",
     "text": [
      "Using device: cpu\n",
      "\n"
     ]
    }
   ],
   "source": [
    "device = torch.device('cuda:0' if torch.cuda.is_available() else 'cpu')\n",
    "print(\"Using device: {}\"\n",
    "      \"\\n\".format(str(device)))"
   ]
  },
  {
   "cell_type": "markdown",
   "id": "aadd2edc",
   "metadata": {},
   "source": [
    "# EDA of Raw Dataset"
   ]
  },
  {
   "cell_type": "code",
   "execution_count": 14,
   "id": "000aefac",
   "metadata": {},
   "outputs": [],
   "source": [
    "raw_data_path = \"all-data.csv\"\n",
    "\n",
    "df = pd.read_csv(raw_data_path, encoding = \"ISO-8859-1\", names=['sentiment', \"text\"])"
   ]
  },
  {
   "cell_type": "code",
   "execution_count": 15,
   "id": "cac07bad",
   "metadata": {},
   "outputs": [
    {
     "data": {
      "text/html": [
       "<div>\n",
       "<style scoped>\n",
       "    .dataframe tbody tr th:only-of-type {\n",
       "        vertical-align: middle;\n",
       "    }\n",
       "\n",
       "    .dataframe tbody tr th {\n",
       "        vertical-align: top;\n",
       "    }\n",
       "\n",
       "    .dataframe thead th {\n",
       "        text-align: right;\n",
       "    }\n",
       "</style>\n",
       "<table border=\"1\" class=\"dataframe\">\n",
       "  <thead>\n",
       "    <tr style=\"text-align: right;\">\n",
       "      <th></th>\n",
       "      <th>sentiment</th>\n",
       "      <th>text</th>\n",
       "    </tr>\n",
       "  </thead>\n",
       "  <tbody>\n",
       "    <tr>\n",
       "      <th>0</th>\n",
       "      <td>neutral</td>\n",
       "      <td>According to Gran , the company has no plans t...</td>\n",
       "    </tr>\n",
       "    <tr>\n",
       "      <th>1</th>\n",
       "      <td>neutral</td>\n",
       "      <td>Technopolis plans to develop in stages an area...</td>\n",
       "    </tr>\n",
       "    <tr>\n",
       "      <th>2</th>\n",
       "      <td>negative</td>\n",
       "      <td>The international electronic industry company ...</td>\n",
       "    </tr>\n",
       "    <tr>\n",
       "      <th>3</th>\n",
       "      <td>positive</td>\n",
       "      <td>With the new production plant the company woul...</td>\n",
       "    </tr>\n",
       "    <tr>\n",
       "      <th>4</th>\n",
       "      <td>positive</td>\n",
       "      <td>According to the company 's updated strategy f...</td>\n",
       "    </tr>\n",
       "    <tr>\n",
       "      <th>...</th>\n",
       "      <td>...</td>\n",
       "      <td>...</td>\n",
       "    </tr>\n",
       "    <tr>\n",
       "      <th>4841</th>\n",
       "      <td>negative</td>\n",
       "      <td>LONDON MarketWatch -- Share prices ended lower...</td>\n",
       "    </tr>\n",
       "    <tr>\n",
       "      <th>4842</th>\n",
       "      <td>neutral</td>\n",
       "      <td>Rinkuskiai 's beer sales fell by 6.5 per cent ...</td>\n",
       "    </tr>\n",
       "    <tr>\n",
       "      <th>4843</th>\n",
       "      <td>negative</td>\n",
       "      <td>Operating profit fell to EUR 35.4 mn from EUR ...</td>\n",
       "    </tr>\n",
       "    <tr>\n",
       "      <th>4844</th>\n",
       "      <td>negative</td>\n",
       "      <td>Net sales of the Paper segment decreased to EU...</td>\n",
       "    </tr>\n",
       "    <tr>\n",
       "      <th>4845</th>\n",
       "      <td>negative</td>\n",
       "      <td>Sales in Finland decreased by 10.5 % in Januar...</td>\n",
       "    </tr>\n",
       "  </tbody>\n",
       "</table>\n",
       "<p>4846 rows × 2 columns</p>\n",
       "</div>"
      ],
      "text/plain": [
       "     sentiment                                               text\n",
       "0      neutral  According to Gran , the company has no plans t...\n",
       "1      neutral  Technopolis plans to develop in stages an area...\n",
       "2     negative  The international electronic industry company ...\n",
       "3     positive  With the new production plant the company woul...\n",
       "4     positive  According to the company 's updated strategy f...\n",
       "...        ...                                                ...\n",
       "4841  negative  LONDON MarketWatch -- Share prices ended lower...\n",
       "4842   neutral  Rinkuskiai 's beer sales fell by 6.5 per cent ...\n",
       "4843  negative  Operating profit fell to EUR 35.4 mn from EUR ...\n",
       "4844  negative  Net sales of the Paper segment decreased to EU...\n",
       "4845  negative  Sales in Finland decreased by 10.5 % in Januar...\n",
       "\n",
       "[4846 rows x 2 columns]"
      ]
     },
     "execution_count": 15,
     "metadata": {},
     "output_type": "execute_result"
    }
   ],
   "source": [
    "df"
   ]
  },
  {
   "cell_type": "code",
   "execution_count": 16,
   "id": "d3b3df4e",
   "metadata": {},
   "outputs": [
    {
     "name": "stdout",
     "output_type": "stream",
     "text": [
      "Total number of news: 4846\n",
      "----------------------------------------\n",
      "Split by category:\n",
      "neutral     2879\n",
      "positive    1363\n",
      "negative     604\n",
      "Name: sentiment, dtype: int64\n",
      "----------------------------------------\n",
      "Number of categories: 3\n"
     ]
    }
   ],
   "source": [
    "print('Total number of news: {}'.format(len(df)))\n",
    "print(40*'-')\n",
    "print('Split by category:')\n",
    "print(df[\"sentiment\"].value_counts())\n",
    "print(40*'-')\n",
    "nr_categories = len(df[\"sentiment\"].unique())\n",
    "print(\"Number of categories: {n}\".format(n=nr_categories))"
   ]
  },
  {
   "cell_type": "markdown",
   "id": "e89fc251",
   "metadata": {},
   "source": [
    "# Preprocessing\n"
   ]
  },
  {
   "cell_type": "code",
   "execution_count": 17,
   "id": "fcefb6ac",
   "metadata": {},
   "outputs": [],
   "source": [
    "# Drop rows with empty text\n",
    "df.drop( df[df.text.str.len() < 5].index, inplace=True)"
   ]
  },
  {
   "cell_type": "code",
   "execution_count": 18,
   "id": "81ea65e2",
   "metadata": {},
   "outputs": [],
   "source": [
    "# Encode Label Columns\n",
    "le = preprocessing.LabelEncoder()\n",
    "df['sentiment'] = le.fit_transform(df['sentiment'])"
   ]
  },
  {
   "cell_type": "code",
   "execution_count": 19,
   "id": "f64fe374",
   "metadata": {},
   "outputs": [],
   "source": [
    "# Trim text to first_n_words\n",
    "\n",
    "first_n_words = 200\n",
    "\n",
    "def trim_string(x):\n",
    "    x = x.split(maxsplit=first_n_words)\n",
    "    x = ' '.join(x[:first_n_words])\n",
    "    return x\n",
    "\n",
    "df['text'] = df['text'].apply(trim_string)\n"
   ]
  },
  {
   "cell_type": "code",
   "execution_count": 20,
   "id": "01d06f4d",
   "metadata": {},
   "outputs": [],
   "source": [
    "df.to_csv(\"all-data-v1.csv\",index=False)"
   ]
  },
  {
   "cell_type": "code",
   "execution_count": 21,
   "id": "e0f5944c",
   "metadata": {},
   "outputs": [
    {
     "name": "stderr",
     "output_type": "stream",
     "text": [
      "[nltk_data] Downloading package stopwords to\n",
      "[nltk_data]     /Users/ivanpua/nltk_data...\n",
      "[nltk_data]   Package stopwords is already up-to-date!\n",
      "[nltk_data] Downloading package wordnet to /Users/ivanpua/nltk_data...\n",
      "[nltk_data]   Package wordnet is already up-to-date!\n",
      "[nltk_data] Downloading package omw-1.4 to /Users/ivanpua/nltk_data...\n",
      "[nltk_data]   Package omw-1.4 is already up-to-date!\n"
     ]
    },
    {
     "data": {
      "text/plain": [
       "True"
      ]
     },
     "execution_count": 21,
     "metadata": {},
     "output_type": "execute_result"
    }
   ],
   "source": [
    "import nltk\n",
    "nltk.download('stopwords') # Download stopwords from NLTK \n",
    "nltk.download('wordnet')\n",
    "nltk.download('omw-1.4')"
   ]
  },
  {
   "cell_type": "code",
   "execution_count": 22,
   "id": "c56f8adb",
   "metadata": {},
   "outputs": [],
   "source": [
    "import torchtext\n",
    "\n",
    "from torchtext.data import Field, TabularDataset, BucketIterator\n",
    "# import spacy\n",
    "# spacy_tokeniser = spacy.load(\"en_core_web_sm\")\n",
    "\n",
    "def tokenise(sample):\n",
    "    \"\"\"\n",
    "    Called before any processing of the text has occurred.\n",
    "    \"\"\"\n",
    "    sample = re.sub(\"[!?.,@#$%\\^*()';:/~<>]\", '', sample) # remove punctuations\n",
    "    sample = sample.replace('-', ' ') # replace \n",
    "    sample = sample.replace(\"&\", 'and') # replace\n",
    "    sample = sample.strip()\n",
    "    processed = sample.split() # tokenise\n",
    "        \n",
    "    return processed\n",
    "\n",
    "'''\n",
    "Stemming and lemmatization does not always yield better results \n",
    "as they reduce the meaning of strings, making it harder for \n",
    "computer (and even humans) to comprehend\n",
    "\n",
    "e.g. Original    : French fries are amazing \n",
    "     Preprocessed: France fry amazing \n",
    "\n",
    "'''\n",
    "def preprocessing(sample):\n",
    "    \n",
    "    # Stemming (remove -ing, -ly, ...)\n",
    "    \n",
    "    ps = nltk.stem.porter.PorterStemmer()\n",
    "    sample = [ps.stem(word) for word in sample]\n",
    "\n",
    "    # Lemmatisation (convert the word into root word)\n",
    "    \n",
    "    lem = nltk.stem.wordnet.WordNetLemmatizer()\n",
    "    sample = [lem.lemmatize(word) for word in sample]\n",
    "    \n",
    "    return sample"
   ]
  },
  {
   "cell_type": "code",
   "execution_count": 23,
   "id": "38ee2dcf",
   "metadata": {},
   "outputs": [],
   "source": [
    "from nltk.corpus import stopwords\n",
    "stopWords = stopwords.words('english') # from NLTK\n"
   ]
  },
  {
   "cell_type": "code",
   "execution_count": 24,
   "id": "b929226a",
   "metadata": {},
   "outputs": [
    {
     "name": "stderr",
     "output_type": "stream",
     "text": [
      "/Users/ivanpua/opt/anaconda3/envs/nlp-pytorch-legacy/lib/python3.8/site-packages/torchtext/data/field.py:150: UserWarning: Field class will be retired soon and moved to torchtext.legacy. Please see the most recent release notes for further information.\n",
      "  warnings.warn('{} class will be retired soon and moved to torchtext.legacy. Please see the most recent release notes for further information.'.format(self.__class__.__name__), UserWarning)\n"
     ]
    }
   ],
   "source": [
    "label_field = Field(sequential=False, \n",
    "                    use_vocab=False, \n",
    "                    batch_first=True)\n",
    "text_field = Field(tokenize=tokenise,\n",
    "                   preprocessing = None,\n",
    "                   lower=False, \n",
    "                   include_lengths=True, \n",
    "                   batch_first=True,\n",
    "                   stop_words=stopWords\n",
    "                  )"
   ]
  },
  {
   "cell_type": "markdown",
   "id": "2a9c2707",
   "metadata": {},
   "source": [
    "# Load Data into DataLoader"
   ]
  },
  {
   "cell_type": "code",
   "execution_count": 25,
   "id": "390d7b7b",
   "metadata": {},
   "outputs": [
    {
     "name": "stdout",
     "output_type": "stream",
     "text": [
      "CPU times: user 56.7 ms, sys: 2.33 ms, total: 59 ms\n",
      "Wall time: 58.5 ms\n"
     ]
    },
    {
     "name": "stderr",
     "output_type": "stream",
     "text": [
      "/Users/ivanpua/opt/anaconda3/envs/nlp-pytorch-legacy/lib/python3.8/site-packages/torchtext/data/example.py:68: UserWarning: Example class will be retired soon and moved to torchtext.legacy. Please see the most recent release notes for further information.\n",
      "  warnings.warn('Example class will be retired soon and moved to torchtext.legacy. Please see the most recent release notes for further information.', UserWarning)\n",
      "/Users/ivanpua/opt/anaconda3/envs/nlp-pytorch-legacy/lib/python3.8/site-packages/torchtext/data/example.py:78: UserWarning: Example class will be retired soon and moved to torchtext.legacy. Please see the most recent release notes for further information.\n",
      "  warnings.warn('Example class will be retired soon and moved to torchtext.legacy. Please see the most recent release notes for further information.', UserWarning)\n"
     ]
    }
   ],
   "source": [
    "%%time\n",
    "\n",
    "fields = [('sentiment', label_field), ('text', text_field)]\n",
    "\n",
    "\n",
    "dataset = TabularDataset('all-data-v1.csv', \n",
    "                         format='csv',\n",
    "                         fields=fields,\n",
    "                         skip_header=True\n",
    "                        )"
   ]
  },
  {
   "cell_type": "code",
   "execution_count": 26,
   "id": "819586e6",
   "metadata": {},
   "outputs": [
    {
     "name": "stderr",
     "output_type": "stream",
     "text": [
      "/Users/ivanpua/opt/anaconda3/envs/nlp-pytorch-legacy/lib/python3.8/site-packages/torchtext/data/iterator.py:48: UserWarning: BucketIterator class will be retired soon and moved to torchtext.legacy. Please see the most recent release notes for further information.\n",
      "  warnings.warn('{} class will be retired soon and moved to torchtext.legacy. Please see the most recent release notes for further information.'.format(self.__class__.__name__), UserWarning)\n"
     ]
    }
   ],
   "source": [
    "train, validate = dataset.split(split_ratio=0.8)\n",
    "\n",
    "trainLoader, valLoader = BucketIterator.splits((train, validate),\n",
    "                                                shuffle=True,\n",
    "                                                batch_size=32,\n",
    "                                                sort_key=lambda x: len(x.text),\n",
    "                                                sort_within_batch=True)"
   ]
  },
  {
   "cell_type": "code",
   "execution_count": 27,
   "id": "43db2f39",
   "metadata": {},
   "outputs": [],
   "source": [
    "# Or use a pre-trained embeddings e.g. Glove, Fasttext\n",
    "\n",
    "# Recommended because improve accuracy and reduce training time\n",
    "from torchtext.vocab import GloVe\n",
    "word_len = 50\n",
    "wordVectors = GloVe(name='6B', dim=word_len)"
   ]
  },
  {
   "cell_type": "code",
   "execution_count": 28,
   "id": "c1c04afd",
   "metadata": {},
   "outputs": [],
   "source": [
    "text_field.build_vocab(train, vectors=wordVectors)"
   ]
  },
  {
   "cell_type": "markdown",
   "id": "e6b2ac50",
   "metadata": {},
   "source": [
    "# Build Model"
   ]
  },
  {
   "cell_type": "code",
   "execution_count": 29,
   "id": "f98f56e1",
   "metadata": {},
   "outputs": [],
   "source": [
    "# Models\n",
    "import torch.nn as nn\n",
    "from torch.nn.utils.rnn import pack_padded_sequence, pad_packed_sequence\n",
    "\n",
    "class LSTM(nn.Module):\n",
    "\n",
    "    def __init__(self, dimension=128):\n",
    "        super(LSTM, self).__init__()\n",
    "\n",
    "#         self.embedding = nn.Embedding(len(text_field.vocab), 50)\n",
    "        self.dimension = dimension\n",
    "        self.lstm = nn.LSTM(input_size=50,\n",
    "                            hidden_size=dimension,\n",
    "                            num_layers=1,\n",
    "                            batch_first=True,\n",
    "                            bidirectional=True)\n",
    "        self.drop = nn.Dropout(p=0.5)\n",
    "\n",
    "        self.fc = nn.Linear(2*dimension, 3)\n",
    "        \n",
    "        self.relu = nn.ReLU()\n",
    "\n",
    "    def forward(self, text, text_len):\n",
    "\n",
    "#         text_emb = self.embedding(text) used when you don't want to have pre-trained weights\n",
    "\n",
    "        packed_input = pack_padded_sequence(text, text_len, batch_first=True, enforce_sorted=False)\n",
    "#         packed_output, _ = self.lstm(packed_input)\n",
    "#         output, _ = pad_packed_sequence(packed_output, batch_first=True)\n",
    "\n",
    "#         out_forward = output[range(len(output)), text_len - 1, :self.dimension]\n",
    "#         out_reverse = output[:, 0, self.dimension:]\n",
    "#         out_reduced = torch.cat((out_forward, out_reverse), dim=1)\n",
    "        x, (hidden, cn) = self.lstm(packed_input)\n",
    "\n",
    "        \"\"\"\n",
    "        The forward network of the last LSTM layer (hidden[-1, :, :]) \n",
    "        contains information about previous inputs, \n",
    "        whereas the backward network (hidden[-2, :, :]) \n",
    "        contains information about following inputs.\n",
    "        We take the last hidden state of the forward output and \n",
    "        the last hidden state of the backward output and merge them together.\n",
    "        \"\"\"\n",
    "        \n",
    "        out_reduced = torch.cat((hidden[-2, :, :], hidden[-1, :, :]), dim=1)\n",
    "        text_fea = self.drop(out_reduced)\n",
    "\n",
    "        text_fea = self.fc(text_fea)\n",
    "#         text_fea = torch.squeeze(text_fea, 1) Only for binary labels\n",
    "        text_out = self.relu(text_fea)\n",
    "\n",
    "        return text_out\n",
    "    \n",
    "    \n"
   ]
  },
  {
   "cell_type": "markdown",
   "id": "30242296",
   "metadata": {},
   "source": [
    "# Loss Function (off the shelf or custom)"
   ]
  },
  {
   "cell_type": "code",
   "execution_count": 30,
   "id": "23eadf63",
   "metadata": {},
   "outputs": [],
   "source": [
    "import torch.nn.functional as F\n",
    "class loss(nn.Module):\n",
    "    \"\"\"\n",
    "    Class for creating the loss function.  The labels and outputs from your\n",
    "    network will be passed to the forward method during training.\n",
    "    https://discuss.pytorch.org/t/how-to-combine-multiple-criterions-to-a-loss-function/348/7\n",
    "    \"\"\"\n",
    "\n",
    "    def __init__(self):\n",
    "        super(loss, self).__init__()\n",
    "\n",
    "    def forward(self, categoryOutput, categoryTarget):\n",
    "        \n",
    "        # Do not round to 0 or 1 here, only convert in the convertNetOutput method for Accuracy\n",
    "        # rating_loss = F.binary_cross_entropy(ratingOutput.float(), ratingTarget.float())\n",
    "        cat_loss = F.cross_entropy(categoryOutput.float(), categoryTarget.float())\n",
    "        \n",
    "        # total_loss = rating_loss + cat_loss\n",
    "        \n",
    "        return cat_loss\n",
    "\n",
    "\n",
    "lossFunc = loss()"
   ]
  },
  {
   "cell_type": "markdown",
   "id": "c63e4fa8",
   "metadata": {},
   "source": [
    "# Training Model"
   ]
  },
  {
   "cell_type": "code",
   "execution_count": 31,
   "id": "ce0843d5",
   "metadata": {},
   "outputs": [],
   "source": [
    "import torch.optim as toptim\n",
    "model = LSTM()\n",
    "model = model.to(device)\n",
    "epochs = 30\n",
    "lr= 1e-4\n",
    "optimizer = toptim.Adam(model.parameters(), lr=lr)"
   ]
  },
  {
   "cell_type": "code",
   "execution_count": 32,
   "id": "af51e088",
   "metadata": {},
   "outputs": [],
   "source": [
    "\n",
    "# Save and Load Functions\n",
    "\n",
    "def save_checkpoint(save_path, model, optimizer, valid_loss):\n",
    "\n",
    "    if save_path == None:\n",
    "        return\n",
    "    \n",
    "    state_dict = {'model_state_dict': model.state_dict(),\n",
    "                  'optimizer_state_dict': optimizer.state_dict(),\n",
    "                  'valid_loss': valid_loss}\n",
    "    \n",
    "    torch.save(state_dict, save_path)\n",
    "    print(f'Model saved to ==> {save_path}')\n",
    "\n",
    "\n",
    "def load_checkpoint(load_path, model, optimizer):\n",
    "\n",
    "    if load_path==None:\n",
    "        return\n",
    "    \n",
    "    state_dict = torch.load(load_path, map_location=device)\n",
    "    print(f'Model loaded from <== {load_path}')\n",
    "    \n",
    "    model.load_state_dict(state_dict['model_state_dict'])\n",
    "    optimizer.load_state_dict(state_dict['optimizer_state_dict'])\n",
    "    \n",
    "    return state_dict['valid_loss']\n",
    "\n",
    "\n",
    "def save_metrics(save_path, train_loss_list, valid_loss_list, global_steps_list):\n",
    "\n",
    "    if save_path == None:\n",
    "        return\n",
    "    \n",
    "    state_dict = {'train_loss_list': train_loss_list,\n",
    "                  'valid_loss_list': valid_loss_list,\n",
    "                  'global_steps_list': global_steps_list}\n",
    "    \n",
    "    torch.save(state_dict, save_path)\n",
    "    print(f'Model saved to ==> {save_path}')\n",
    "\n",
    "\n",
    "def load_metrics(load_path):\n",
    "\n",
    "    if load_path==None:\n",
    "        return\n",
    "    \n",
    "    state_dict = torch.load(load_path, map_location=device)\n",
    "    print(f'Model loaded from <== {load_path}')\n",
    "    \n",
    "    return state_dict['train_loss_list'], state_dict['valid_loss_list'], state_dict['global_steps_list']\n"
   ]
  },
  {
   "cell_type": "code",
   "execution_count": 33,
   "id": "fe2b1677",
   "metadata": {
    "scrolled": true
   },
   "outputs": [
    {
     "name": "stderr",
     "output_type": "stream",
     "text": [
      "/Users/ivanpua/opt/anaconda3/envs/nlp-pytorch-legacy/lib/python3.8/site-packages/torchtext/data/batch.py:23: UserWarning: Batch class will be retired soon and moved to torchtext.legacy. Please see the most recent release notes for further information.\n",
      "  warnings.warn('{} class will be retired soon and moved to torchtext.legacy. Please see the most recent release notes for further information.'.format(self.__class__.__name__), UserWarning)\n"
     ]
    },
    {
     "name": "stdout",
     "output_type": "stream",
     "text": [
      "Epoch [1/30], Step [61/3660], Train Loss: 1.0854, Valid Loss: 1.0511\n",
      "Model saved to ==> ./output/lstm/model.pt\n",
      "Model saved to ==> ./output/lstm/metrics.pt\n",
      "Epoch [1/30], Step [122/3660], Train Loss: 0.9947, Valid Loss: 0.9662\n",
      "Model saved to ==> ./output/lstm/model.pt\n",
      "Model saved to ==> ./output/lstm/metrics.pt\n",
      "Epoch [2/30], Step [183/3660], Train Loss: 0.9332, Valid Loss: 0.9197\n",
      "Model saved to ==> ./output/lstm/model.pt\n",
      "Model saved to ==> ./output/lstm/metrics.pt\n",
      "Epoch [2/30], Step [244/3660], Train Loss: 0.8874, Valid Loss: 0.8861\n",
      "Model saved to ==> ./output/lstm/model.pt\n",
      "Model saved to ==> ./output/lstm/metrics.pt\n",
      "Epoch [3/30], Step [305/3660], Train Loss: 0.8586, Valid Loss: 0.8605\n",
      "Model saved to ==> ./output/lstm/model.pt\n",
      "Model saved to ==> ./output/lstm/metrics.pt\n",
      "Epoch [3/30], Step [366/3660], Train Loss: 0.8480, Valid Loss: 0.8414\n",
      "Model saved to ==> ./output/lstm/model.pt\n",
      "Model saved to ==> ./output/lstm/metrics.pt\n",
      "Epoch [4/30], Step [427/3660], Train Loss: 0.8154, Valid Loss: 0.8288\n",
      "Model saved to ==> ./output/lstm/model.pt\n",
      "Model saved to ==> ./output/lstm/metrics.pt\n",
      "Epoch [4/30], Step [488/3660], Train Loss: 0.8113, Valid Loss: 0.8155\n",
      "Model saved to ==> ./output/lstm/model.pt\n",
      "Model saved to ==> ./output/lstm/metrics.pt\n",
      "Epoch [5/30], Step [549/3660], Train Loss: 0.8052, Valid Loss: 0.8073\n",
      "Model saved to ==> ./output/lstm/model.pt\n",
      "Model saved to ==> ./output/lstm/metrics.pt\n",
      "Epoch [5/30], Step [610/3660], Train Loss: 0.7686, Valid Loss: 0.7983\n",
      "Model saved to ==> ./output/lstm/model.pt\n",
      "Model saved to ==> ./output/lstm/metrics.pt\n",
      "Epoch [6/30], Step [671/3660], Train Loss: 0.7726, Valid Loss: 0.7943\n",
      "Model saved to ==> ./output/lstm/model.pt\n",
      "Model saved to ==> ./output/lstm/metrics.pt\n",
      "Epoch [6/30], Step [732/3660], Train Loss: 0.7820, Valid Loss: 0.7857\n",
      "Model saved to ==> ./output/lstm/model.pt\n",
      "Model saved to ==> ./output/lstm/metrics.pt\n",
      "Epoch [7/30], Step [793/3660], Train Loss: 0.7737, Valid Loss: 0.7910\n",
      "Epoch [7/30], Step [854/3660], Train Loss: 0.7397, Valid Loss: 0.7787\n",
      "Model saved to ==> ./output/lstm/model.pt\n",
      "Model saved to ==> ./output/lstm/metrics.pt\n",
      "Epoch [8/30], Step [915/3660], Train Loss: 0.7547, Valid Loss: 0.7658\n",
      "Model saved to ==> ./output/lstm/model.pt\n",
      "Model saved to ==> ./output/lstm/metrics.pt\n",
      "Epoch [8/30], Step [976/3660], Train Loss: 0.7256, Valid Loss: 0.7583\n",
      "Model saved to ==> ./output/lstm/model.pt\n",
      "Model saved to ==> ./output/lstm/metrics.pt\n",
      "Epoch [9/30], Step [1037/3660], Train Loss: 0.7426, Valid Loss: 0.7542\n",
      "Model saved to ==> ./output/lstm/model.pt\n",
      "Model saved to ==> ./output/lstm/metrics.pt\n",
      "Epoch [9/30], Step [1098/3660], Train Loss: 0.7245, Valid Loss: 0.7649\n",
      "Epoch [10/30], Step [1159/3660], Train Loss: 0.7145, Valid Loss: 0.7467\n",
      "Model saved to ==> ./output/lstm/model.pt\n",
      "Model saved to ==> ./output/lstm/metrics.pt\n",
      "Epoch [10/30], Step [1220/3660], Train Loss: 0.7133, Valid Loss: 0.7403\n",
      "Model saved to ==> ./output/lstm/model.pt\n",
      "Model saved to ==> ./output/lstm/metrics.pt\n",
      "Epoch [11/30], Step [1281/3660], Train Loss: 0.7235, Valid Loss: 0.7519\n",
      "Epoch [11/30], Step [1342/3660], Train Loss: 0.6839, Valid Loss: 0.7575\n",
      "Epoch [12/30], Step [1403/3660], Train Loss: 0.6947, Valid Loss: 0.7299\n",
      "Model saved to ==> ./output/lstm/model.pt\n",
      "Model saved to ==> ./output/lstm/metrics.pt\n",
      "Epoch [12/30], Step [1464/3660], Train Loss: 0.6912, Valid Loss: 0.7224\n",
      "Model saved to ==> ./output/lstm/model.pt\n",
      "Model saved to ==> ./output/lstm/metrics.pt\n",
      "Epoch [13/30], Step [1525/3660], Train Loss: 0.6763, Valid Loss: 0.7381\n",
      "Epoch [13/30], Step [1586/3660], Train Loss: 0.6911, Valid Loss: 0.7312\n",
      "Epoch [14/30], Step [1647/3660], Train Loss: 0.6770, Valid Loss: 0.7101\n",
      "Model saved to ==> ./output/lstm/model.pt\n",
      "Model saved to ==> ./output/lstm/metrics.pt\n",
      "Epoch [14/30], Step [1708/3660], Train Loss: 0.6810, Valid Loss: 0.7056\n",
      "Model saved to ==> ./output/lstm/model.pt\n",
      "Model saved to ==> ./output/lstm/metrics.pt\n",
      "Epoch [15/30], Step [1769/3660], Train Loss: 0.6682, Valid Loss: 0.7150\n",
      "Epoch [15/30], Step [1830/3660], Train Loss: 0.6759, Valid Loss: 0.7004\n",
      "Model saved to ==> ./output/lstm/model.pt\n",
      "Model saved to ==> ./output/lstm/metrics.pt\n",
      "Epoch [16/30], Step [1891/3660], Train Loss: 0.6759, Valid Loss: 0.6994\n",
      "Model saved to ==> ./output/lstm/model.pt\n",
      "Model saved to ==> ./output/lstm/metrics.pt\n",
      "Epoch [16/30], Step [1952/3660], Train Loss: 0.6524, Valid Loss: 0.7079\n",
      "Epoch [17/30], Step [2013/3660], Train Loss: 0.6554, Valid Loss: 0.6957\n",
      "Model saved to ==> ./output/lstm/model.pt\n",
      "Model saved to ==> ./output/lstm/metrics.pt\n",
      "Epoch [17/30], Step [2074/3660], Train Loss: 0.6500, Valid Loss: 0.7001\n",
      "Epoch [18/30], Step [2135/3660], Train Loss: 0.6490, Valid Loss: 0.6981\n",
      "Epoch [18/30], Step [2196/3660], Train Loss: 0.6457, Valid Loss: 0.6924\n",
      "Model saved to ==> ./output/lstm/model.pt\n",
      "Model saved to ==> ./output/lstm/metrics.pt\n",
      "Epoch [19/30], Step [2257/3660], Train Loss: 0.6164, Valid Loss: 0.6959\n",
      "Epoch [19/30], Step [2318/3660], Train Loss: 0.6673, Valid Loss: 0.7046\n",
      "Epoch [20/30], Step [2379/3660], Train Loss: 0.6537, Valid Loss: 0.6828\n",
      "Model saved to ==> ./output/lstm/model.pt\n",
      "Model saved to ==> ./output/lstm/metrics.pt\n",
      "Epoch [20/30], Step [2440/3660], Train Loss: 0.6280, Valid Loss: 0.7014\n",
      "Epoch [21/30], Step [2501/3660], Train Loss: 0.6350, Valid Loss: 0.6807\n",
      "Model saved to ==> ./output/lstm/model.pt\n",
      "Model saved to ==> ./output/lstm/metrics.pt\n",
      "Epoch [21/30], Step [2562/3660], Train Loss: 0.6223, Valid Loss: 0.6803\n",
      "Model saved to ==> ./output/lstm/model.pt\n",
      "Model saved to ==> ./output/lstm/metrics.pt\n",
      "Epoch [22/30], Step [2623/3660], Train Loss: 0.6017, Valid Loss: 0.6912\n",
      "Epoch [22/30], Step [2684/3660], Train Loss: 0.6372, Valid Loss: 0.6915\n",
      "Epoch [23/30], Step [2745/3660], Train Loss: 0.6464, Valid Loss: 0.6826\n",
      "Epoch [23/30], Step [2806/3660], Train Loss: 0.6071, Valid Loss: 0.6757\n",
      "Model saved to ==> ./output/lstm/model.pt\n",
      "Model saved to ==> ./output/lstm/metrics.pt\n",
      "Epoch [24/30], Step [2867/3660], Train Loss: 0.6280, Valid Loss: 0.6725\n",
      "Model saved to ==> ./output/lstm/model.pt\n",
      "Model saved to ==> ./output/lstm/metrics.pt\n",
      "Epoch [24/30], Step [2928/3660], Train Loss: 0.6028, Valid Loss: 0.6795\n",
      "Epoch [25/30], Step [2989/3660], Train Loss: 0.5999, Valid Loss: 0.6962\n",
      "Epoch [25/30], Step [3050/3660], Train Loss: 0.6282, Valid Loss: 0.6760\n",
      "Epoch [26/30], Step [3111/3660], Train Loss: 0.6031, Valid Loss: 0.6740\n",
      "Epoch [26/30], Step [3172/3660], Train Loss: 0.5993, Valid Loss: 0.6678\n",
      "Model saved to ==> ./output/lstm/model.pt\n",
      "Model saved to ==> ./output/lstm/metrics.pt\n",
      "Epoch [27/30], Step [3233/3660], Train Loss: 0.5966, Valid Loss: 0.6792\n",
      "Epoch [27/30], Step [3294/3660], Train Loss: 0.5954, Valid Loss: 0.6697\n",
      "Epoch [28/30], Step [3355/3660], Train Loss: 0.6155, Valid Loss: 0.6955\n",
      "Epoch [28/30], Step [3416/3660], Train Loss: 0.5818, Valid Loss: 0.6595\n",
      "Model saved to ==> ./output/lstm/model.pt\n",
      "Model saved to ==> ./output/lstm/metrics.pt\n",
      "Epoch [29/30], Step [3477/3660], Train Loss: 0.5936, Valid Loss: 0.6641\n",
      "Epoch [29/30], Step [3538/3660], Train Loss: 0.5896, Valid Loss: 0.6739\n",
      "Epoch [30/30], Step [3599/3660], Train Loss: 0.5799, Valid Loss: 0.6634\n",
      "Epoch [30/30], Step [3660/3660], Train Loss: 0.5979, Valid Loss: 0.6754\n",
      "Model saved to ==> ./output/lstm/metrics.pt\n",
      "Finished Training!\n"
     ]
    }
   ],
   "source": [
    "def train(model,\n",
    "          optimizer,\n",
    "          criterion = nn.CrossEntropyLoss(), # or custom from above\n",
    "          train_loader = trainLoader,\n",
    "          valid_loader = valLoader,\n",
    "          num_epochs = 5,\n",
    "          eval_every = len(trainLoader) // 2,\n",
    "          file_path = \"./output/lstm\",\n",
    "          best_valid_loss = float(\"Inf\")):\n",
    "    \n",
    "    # initialize running values\n",
    "    running_loss = 0.0\n",
    "    valid_running_loss = 0.0\n",
    "    global_step = 0\n",
    "    train_loss_list = []\n",
    "    valid_loss_list = []\n",
    "    global_steps_list = []\n",
    "\n",
    "    # training loop\n",
    "    model.train()\n",
    "    for epoch in range(num_epochs):\n",
    "        \n",
    "        for (labels, (text, text_len)), _ in train_loader: \n",
    "                        \n",
    "            labels = labels.to(device)\n",
    "            text = text_field.vocab.vectors[text].to(device)\n",
    "            text_len = text_len.to(device)\n",
    "            output = model(text, text_len)\n",
    "            loss = criterion(output, labels)\n",
    "            optimizer.zero_grad()\n",
    "            loss.backward()\n",
    "            optimizer.step()\n",
    "\n",
    "            # update running values\n",
    "            running_loss += loss.item()\n",
    "            global_step += 1\n",
    "\n",
    "            # evaluation step\n",
    "            if global_step % eval_every == 0:\n",
    "                model.eval()\n",
    "                with torch.no_grad():                    \n",
    "                  # validation loop\n",
    "                    for (labels, (text, text_len)), _ in valid_loader:\n",
    "                        labels = labels.to(device)\n",
    "                        text = text_field.vocab.vectors[text].to(device)\n",
    "                        text_len = text_len.to(device)\n",
    "                        output = model(text, text_len)\n",
    "                        \n",
    "\n",
    "                        loss = criterion(output, labels)\n",
    "                        valid_running_loss += loss.item()\n",
    "\n",
    "                # evaluation\n",
    "                average_train_loss = running_loss / eval_every\n",
    "                average_valid_loss = valid_running_loss / len(valid_loader)\n",
    "                train_loss_list.append(average_train_loss)\n",
    "                valid_loss_list.append(average_valid_loss)\n",
    "                global_steps_list.append(global_step)\n",
    "\n",
    "                # resetting running values\n",
    "                running_loss = 0.0                \n",
    "                valid_running_loss = 0.0\n",
    "                model.train()\n",
    "\n",
    "                # print progress\n",
    "                print('Epoch [{}/{}], Step [{}/{}], Train Loss: {:.4f}, Valid Loss: {:.4f}'\n",
    "                      .format(epoch+1, num_epochs, global_step, num_epochs*len(train_loader),\n",
    "                              average_train_loss, average_valid_loss))\n",
    "                \n",
    "                # checkpoint\n",
    "                if best_valid_loss > average_valid_loss:\n",
    "                    best_valid_loss = average_valid_loss\n",
    "                    save_checkpoint(file_path + '/model.pt', model, optimizer, best_valid_loss)\n",
    "                    save_metrics(file_path + '/metrics.pt', train_loss_list, valid_loss_list, global_steps_list)\n",
    "    \n",
    "    save_metrics(file_path + '/metrics.pt', train_loss_list, valid_loss_list, global_steps_list)\n",
    "    print('Finished Training!')\n",
    "\n",
    "\n",
    "\n",
    "train(model=model, optimizer=optimizer, num_epochs=epochs)"
   ]
  },
  {
   "cell_type": "code",
   "execution_count": 34,
   "id": "d93f2a8a",
   "metadata": {},
   "outputs": [
    {
     "name": "stdout",
     "output_type": "stream",
     "text": [
      "Model loaded from <== ./output/lstm/metrics.pt\n"
     ]
    },
    {
     "data": {
      "image/png": "[encoded data removed]",
      "text/plain": [
       "<Figure size 640x480 with 1 Axes>"
      ]
     },
     "metadata": {},
     "output_type": "display_data"
    }
   ],
   "source": [
    "destination_folder = \"./output/lstm\"\n",
    "\n",
    "train_loss_list, valid_loss_list, global_steps_list = load_metrics(destination_folder + '/metrics.pt')\n",
    "plt.plot(global_steps_list, train_loss_list, label='Train')\n",
    "plt.plot(global_steps_list, valid_loss_list, label='Valid')\n",
    "plt.xlabel('Global Steps')\n",
    "plt.ylabel('Loss')\n",
    "plt.legend()\n",
    "plt.show() "
   ]
  },
  {
   "cell_type": "code",
   "execution_count": 35,
   "id": "a9cba71a",
   "metadata": {},
   "outputs": [
    {
     "name": "stdout",
     "output_type": "stream",
     "text": [
      "Model loaded from <== ./output/lstm/model.pt\n",
      "Classification Report:\n",
      "              precision    recall  f1-score   support\n",
      "\n",
      "           0     0.4595    0.3091    0.3696       110\n",
      "           1     0.7537    0.8981    0.8196       569\n",
      "           2     0.6406    0.4793    0.5483       290\n",
      "\n",
      "    accuracy                         0.7059       969\n",
      "   macro avg     0.6179    0.5622    0.5792       969\n",
      "weighted avg     0.6864    0.7059    0.6873       969\n",
      "\n"
     ]
    },
    {
     "data": {
      "image/png": "[encoded data removed]",
      "text/plain": [
       "<Figure size 640x480 with 2 Axes>"
      ]
     },
     "metadata": {},
     "output_type": "display_data"
    }
   ],
   "source": [
    "def evaluate(model, test_loader):\n",
    "    y_pred = []\n",
    "    y_true = []\n",
    "\n",
    "    model.eval()\n",
    "    with torch.no_grad():\n",
    "        for (labels, (text, text_len)), _ in test_loader: \n",
    "            \n",
    "            \n",
    "            labels = labels.to(device)\n",
    "            text = text_field.vocab.vectors[text].to(device)\n",
    "            text_len = text_len.to(device)\n",
    "            output = model(text, text_len)\n",
    "            \n",
    "\n",
    "#             output = torch.round(output) # for binary labels\n",
    "            \n",
    "            # obtain index with the maximum probability, representing the predicted category \n",
    "            _, output = torch.max(output.data, 1)\n",
    "            y_pred.extend(output.long().tolist())\n",
    "            y_true.extend(labels.tolist())\n",
    "    \n",
    "    print('Classification Report:')\n",
    "    print(classification_report(y_true, y_pred, digits=4))\n",
    "    \n",
    "    cm = confusion_matrix(y_true, y_pred, labels=[0,1,2])\n",
    "    ax= plt.subplot()\n",
    "    sns.heatmap(cm, annot=True, ax = ax, cmap='Blues', fmt=\"d\")\n",
    "\n",
    "    ax.set_title('Confusion Matrix')\n",
    "\n",
    "    ax.set_xlabel('Predicted Labels')\n",
    "    ax.set_ylabel('True Labels')\n",
    "\n",
    "    ax.xaxis.set_ticklabels(['Negative', 'Neutral', 'Positive'])\n",
    "    ax.yaxis.set_ticklabels(['Negative', 'Neutral', 'Positive'])\n",
    "    \n",
    "    \n",
    "best_model = LSTM().to(device)\n",
    "optimizer = toptim.Adam(best_model.parameters(), lr=lr)\n",
    "\n",
    "load_checkpoint(destination_folder + '/model.pt', best_model, optimizer)\n",
    "evaluate(best_model, valLoader)"
   ]
  },
  {
   "cell_type": "code",
   "execution_count": null,
   "id": "58a57617",
   "metadata": {},
   "outputs": [],
   "source": []
  }
 ],
 "metadata": {
  "kernelspec": {
   "display_name": "nlp-torch-legacy",
   "language": "python",
   "name": "nlp-torch-legacy"
  },
  "language_info": {
   "codemirror_mode": {
    "name": "ipython",
    "version": 3
   },
   "file_extension": ".py",
   "mimetype": "text/x-python",
   "name": "python",
   "nbconvert_exporter": "python",
   "pygments_lexer": "ipython3",
   "version": "3.8.0"
  }
 },
 "nbformat": 4,
 "nbformat_minor": 5
}
